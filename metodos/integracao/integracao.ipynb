{
 "cells": [
  {
   "attachments": {},
   "cell_type": "markdown",
   "metadata": {},
   "source": [
    "# Integração Numérica - Método dos Trapézios"
   ]
  },
  {
   "attachments": {},
   "cell_type": "markdown",
   "metadata": {},
   "source": [
    "Ao invés das somas de Riemann, em que aproximamos a área sob um gráfico a partir da soma das partições por retângulos, aqui o método utilizado será obter a mesma região sob a curva a partir da soma de trapézios. A abordagem será, também, iterativa para resolver o problema."
   ]
  },
  {
   "attachments": {},
   "cell_type": "markdown",
   "metadata": {},
   "source": [
    "### Análise Matemática\n",
    "\n",
    "Vamos analisar sintaticamente como o problema pode ser modelado:\n",
    "\n",
    "$$\\int_a^b f(x) \\, dx = \\frac{f(a) - f(b)}{2}(b - a)$$"
   ]
  },
  {
   "attachments": {},
   "cell_type": "markdown",
   "metadata": {},
   "source": [
    "### Forma Iterativa\n",
    "\n",
    "Caso estejamos procurando uma abordagem iterativa para resolver o problema, ou seja, aproximar pela soma de uma quantidade definida de trapézios, podemos abordar da seguinte forma:\n",
    "\n",
    "$$\\int_a^b f(x) \\, dx = \\frac{h_n}{2}[f(a) + 2f(a + h_n) +  \\ldots + 2f(a + (n-1)h_n) + f(b)] \\\\ h_n = \\frac{b-1}{n}$$"
   ]
  },
  {
   "attachments": {},
   "cell_type": "markdown",
   "metadata": {},
   "source": [
    "### Codando\n",
    "\n",
    "Vamos agora colocar isso em código:"
   ]
  },
  {
   "cell_type": "code",
   "execution_count": 3,
   "metadata": {},
   "outputs": [
    {
     "name": "stdout",
     "output_type": "stream",
     "text": [
      "64.0\n"
     ]
    }
   ],
   "source": [
    "def simple_trap(f, a , b):\n",
    "    # a função recebe uma função f, e os limites de integração a e b\n",
    "    return (f(a)+f(b)/2)*(b-a)\n",
    "\n",
    "f = lambda x: x**2 - 4*x\n",
    "print(simple_trap(f, 4, 8))"
   ]
  },
  {
   "attachments": {},
   "cell_type": "markdown",
   "metadata": {},
   "source": [
    "O resultado real que deveria ser obtido era $\\frac{160}{3}$"
   ]
  },
  {
   "cell_type": "code",
   "execution_count": 14,
   "metadata": {},
   "outputs": [
    {
     "name": "stdout",
     "output_type": "stream",
     "text": [
      "53.32053535993584\n"
     ]
    }
   ],
   "source": [
    "def iteract_trap(f, a, b):\n",
    "    n = 10000\n",
    "    h = (b - a) / n\n",
    "    partial_sum = sum([2 * f(a + (i - 1) * h) for i in range(1, n)]) + f(a) + f(b)\n",
    "    result = (h / 2) * partial_sum\n",
    "    return result\n",
    "\n",
    "print(iteract_trap(f, 4, 8))"
   ]
  },
  {
   "attachments": {},
   "cell_type": "markdown",
   "metadata": {},
   "source": [
    "Agora sim, temos o resultado aproximado bem mais próximo do que era esperado. Contudo, ainda temos um problema bem grande: como vamos definir a quantidade de iterações necessárias para que a aproximação seja boa o suficiente? Para isso, vamos definir um $\\epsilon$, de modo que vamos considerar a quantidade de iterações até que o erro seja menor do que o $\\epsilon$ possa admitir."
   ]
  },
  {
   "cell_type": "code",
   "execution_count": 1,
   "metadata": {},
   "outputs": [],
   "source": [
    "def trapezoidal_integration(f, a, b, n):\n",
    "    h = (b - a) / n\n",
    "    x = a\n",
    "    integral = 0\n",
    "\n",
    "    for _ in range(n):\n",
    "        integral += (f(x) + f(x + h)) / 2\n",
    "        x += h\n",
    "\n",
    "    integral *= h\n",
    "    return integral\n",
    "\n",
    "def find_optimal_n(f, a, b, target_error):\n",
    "    n = 1\n",
    "    previous_integral = trapezoidal_integration(f, a, b, n)\n",
    "\n",
    "    while True:\n",
    "        n *= 2\n",
    "        current_integral = trapezoidal_integration(f, a, b, n)\n",
    "        error = abs(current_integral - previous_integral)\n",
    "\n",
    "        if error < target_error:\n",
    "            break\n",
    "\n",
    "        previous_integral = current_integral\n",
    "\n",
    "    return n"
   ]
  }
 ],
 "metadata": {
  "kernelspec": {
   "display_name": "Python 3",
   "language": "python",
   "name": "python3"
  },
  "language_info": {
   "codemirror_mode": {
    "name": "ipython",
    "version": 3
   },
   "file_extension": ".py",
   "mimetype": "text/x-python",
   "name": "python",
   "nbconvert_exporter": "python",
   "pygments_lexer": "ipython3",
   "version": "3.11.2"
  },
  "orig_nbformat": 4
 },
 "nbformat": 4,
 "nbformat_minor": 2
}
