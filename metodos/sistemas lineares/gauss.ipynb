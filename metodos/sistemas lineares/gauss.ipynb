{
 "cells": [
  {
   "cell_type": "code",
   "execution_count": null,
   "metadata": {},
   "outputs": [],
   "source": []
  },
  {
   "attachments": {},
   "cell_type": "markdown",
   "metadata": {},
   "source": [
    "Onde A é a matriz de coeficientes do sistema e b é o vetor de termos independentes. A função retorna o vetor solução x. Note que o código implementa o pivoteamento parcial para evitar problemas com divisão por zero e aumentar a estabilidade numérica do método."
   ]
  },
  {
   "cell_type": "code",
   "execution_count": null,
   "metadata": {},
   "outputs": [],
   "source": [
    "import numpy as np\n",
    "\n",
    "def gaussian_elimination(A, b):\n",
    "    n = len(b)\n",
    "\n",
    "    # Etapa de eliminação com condensação pivotal\n",
    "    for i in range(n-1):\n",
    "        # Encontrar o maior elemento na coluna i para pivoteamento parcial\n",
    "        max_idx = np.argmax(abs(A[i:, i])) + i\n",
    "\n",
    "        # Trocar as linhas i e max_idx\n",
    "        A[[i,max_idx]] = A[[max_idx,i]]\n",
    "        b[[i,max_idx]] = b[[max_idx,i]]\n",
    "\n",
    "        # Zerar os elementos abaixo da diagonal principal\n",
    "        for j in range(i+1, n):\n",
    "            f = A[j,i] / A[i,i]\n",
    "            A[j,i+1:] -= f * A[i,i+1:]\n",
    "            b[j] -= f * b[i]\n",
    "\n",
    "    # Etapa de substituição\n",
    "    x = np.zeros(n)\n",
    "    for i in range(n-1, -1, -1):\n",
    "        x[i] = (b[i] - np.dot(A[i,i+1:], x[i+1:])) / A[i,i]\n",
    "\n",
    "    return x"
   ]
  },
  {
   "attachments": {},
   "cell_type": "markdown",
   "metadata": {},
   "source": [
    "# Para condensação Pivotal\n",
    "\n",
    "Onde A é a matriz de coeficientes do sistema e b é o vetor de termos independentes. A função retorna o vetor solução x. A condensação pivotal é realizada através do pivoteamento parcial na etapa de eliminação. Note que esta implementação utiliza a biblioteca NumPy para aproveitar as operações vetoriais e melhorar a eficiência do código."
   ]
  },
  {
   "cell_type": "code",
   "execution_count": null,
   "metadata": {},
   "outputs": [],
   "source": [
    "import numpy as np\n",
    "\n",
    "def gaussian_elimination(A, b):\n",
    "    n = len(b)\n",
    "\n",
    "    # Etapa de eliminação com condensação pivotal\n",
    "    for i in range(n-1):\n",
    "        # Encontrar o maior elemento na coluna i para pivoteamento parcial\n",
    "        max_idx = np.argmax(abs(A[i:, i])) + i\n",
    "\n",
    "        # Trocar as linhas i e max_idx\n",
    "        A[[i,max_idx]] = A[[max_idx,i]]\n",
    "        b[[i,max_idx]] = b[[max_idx,i]]\n",
    "\n",
    "        # Zerar os elementos abaixo da diagonal principal\n",
    "        for j in range(i+1, n):\n",
    "            f = A[j,i] / A[i,i]\n",
    "            A[j,i+1:] -= f * A[i,i+1:]\n",
    "            b[j] -= f * b[i]\n",
    "\n",
    "    # Etapa de substituição\n",
    "    x = np.zeros(n)\n",
    "    for i in range(n-1, -1, -1):\n",
    "        x[i] = (b[i] - np.dot(A[i,i+1:], x[i+1:])) / A[i,i]\n",
    "\n",
    "    return x"
   ]
  }
 ],
 "metadata": {
  "language_info": {
   "name": "python"
  },
  "orig_nbformat": 4
 },
 "nbformat": 4,
 "nbformat_minor": 2
}
