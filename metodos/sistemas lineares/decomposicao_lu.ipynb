{
 "cells": [
  {
   "cell_type": "code",
   "execution_count": null,
   "metadata": {},
   "outputs": [],
   "source": []
  },
  {
   "attachments": {},
   "cell_type": "markdown",
   "metadata": {},
   "source": [
    "O algoritmo de decomposição LU é um método utilizado para resolver sistemas lineares de equações. Ele consiste em decompor a matriz de coeficientes em duas matrizes: uma matriz triangular inferior (L) e uma matriz triangular superior (U). A decomposição LU pode ser utilizada para resolver o sistema linear Ax = b, substituindo Ax = LUx. O processo consiste em três etapas principais:\n",
    "\n",
    "1. Decomposição: Consiste em decompor a matriz de coeficientes A em duas matrizes L e U, tal que A = LU, onde L é uma matriz triangular inferior e U é uma matriz triangular superior.\n",
    "2. Substituição direta: Consiste em resolver o sistema triangular inferior Lx = b, encontrando o vetor x.\n",
    "3. Substituição inversa: Consiste em resolver o sistema triangular superior Ux = y, onde y = L^{-1}b, encontrando o vetor x.\n",
    "\n",
    "O algoritmo de decomposição LU é mais eficiente do que o método de eliminação gaussiana, pois a matriz L é triangular inferior, o que torna a substituição direta mais fácil e eficiente.\n",
    "\n",
    "Segue um exemplo de implementação do algoritmo de decomposição LU em Python utilizando a biblioteca NumPy:\n",
    "\n",
    "Onde A é a matriz de coeficientes do sistema e b é o vetor de termos independentes. A função LU_decomposition retorna as matrizes L e U, enquanto a função solve_LU resolve o sistema linear Ax = b utilizando a decomposição LU. Note que esta implementação utiliza a biblioteca NumPy para aproveitar as operações vetoriais e melhorar a eficiência do código."
   ]
  },
  {
   "cell_type": "code",
   "execution_count": null,
   "metadata": {},
   "outputs": [],
   "source": [
    "import numpy as np\n",
    "\n",
    "def LU_decomposition(A):\n",
    "    n = len(A)\n",
    "    L = np.eye(n)\n",
    "    U = A.copy()\n",
    "\n",
    "    for i in range(n):\n",
    "        for j in range(i+1, n):\n",
    "            L[j,i] = U[j,i] / U[i,i]\n",
    "            U[j,i:] -= L[j,i] * U[i,i:]\n",
    "\n",
    "    return L, U\n",
    "\n",
    "def solve_LU(L, U, b):\n",
    "    y = np.linalg.solve(L, b)\n",
    "    x = np.linalg.solve(U, y)\n",
    "    return x"
   ]
  }
 ],
 "metadata": {
  "language_info": {
   "name": "python"
  },
  "orig_nbformat": 4
 },
 "nbformat": 4,
 "nbformat_minor": 2
}
