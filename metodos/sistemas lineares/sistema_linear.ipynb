{
 "cells": [
  {
   "attachments": {},
   "cell_type": "markdown",
   "metadata": {},
   "source": [
    "# Resolução de Sistemas Lineares "
   ]
  },
  {
   "attachments": {},
   "cell_type": "markdown",
   "metadata": {},
   "source": [
    "## Decomposição LU"
   ]
  },
  {
   "attachments": {},
   "cell_type": "markdown",
   "metadata": {},
   "source": [
    "O algoritmo de decomposição LU é um método utilizado para resolver sistemas lineares de equações. Ele consiste em decompor a matriz de coeficientes em duas matrizes: uma matriz triangular inferior (L) e uma matriz triangular superior (U). A decomposição LU pode ser utilizada para resolver o sistema linear Ax = b, substituindo Ax = LUx. O processo consiste em três etapas principais:\n",
    "\n",
    "1. Decomposição: Consiste em decompor a matriz de coeficientes A em duas matrizes L e U, tal que A = LU, onde L é uma matriz triangular inferior e U é uma matriz triangular superior.\n",
    "2. Substituição direta: Consiste em resolver o sistema triangular inferior Lx = b, encontrando o vetor x.\n",
    "3. Substituição inversa: Consiste em resolver o sistema triangular superior Ux = y, onde y = L^{-1}b, encontrando o vetor x."
   ]
  },
  {
   "attachments": {},
   "cell_type": "markdown",
   "metadata": {},
   "source": [
    "$$\n",
    "A = \n",
    "\\begin{bmatrix}\n",
    "a_{11} & a_{12} & \\ldots & a_{1n} \\\\\n",
    "a_{21} & a_{22} & \\ldots & a_{2n} \\\\\n",
    "\\vdots & \\vdots & \\ddots & \\vdots \\\\\n",
    "a_{n1} & a_{n2} & \\ldots & a_{nn}\n",
    "\\end{bmatrix}\n",
    "\n",
    "L = \n",
    "\\begin{bmatrix}\n",
    "1 & 0 & \\ldots & 0 \\\\\n",
    "l_{21} & 1 & \\ldots & 0 \\\\\n",
    "\\vdots & \\vdots & \\ddots & \\vdots \\\\\n",
    "l_{n1} & l_{n2} & \\ldots & 1\n",
    "\\end{bmatrix}\n",
    "\n",
    "U = \n",
    "\\begin{bmatrix}\n",
    "u_{11} & u_{12} & \\ldots & u_{1n} \\\\\n",
    "0 & u_{22} & \\ldots & u_{2n} \\\\\n",
    "\\vdots & \\vdots & \\ddots & \\vdots \\\\\n",
    "0 & 0 & \\ldots & u_{nn}\n",
    "\\end{bmatrix}\n",
    "$$"
   ]
  },
  {
   "attachments": {},
   "cell_type": "markdown",
   "metadata": {},
   "source": [
    "O algoritmo de decomposição LU é mais eficiente do que o método de eliminação gaussiana, pois a matriz L é triangular inferior, o que torna a substituição direta mais fácil e eficiente.\n",
    "\n",
    "Segue um exemplo de implementação do algoritmo de decomposição LU em Python utilizando a biblioteca NumPy:\n",
    "\n",
    "Onde A é a matriz de coeficientes do sistema e b é o vetor de termos independentes. A função LU_decomposition retorna as matrizes L e U, enquanto a função solve_LU resolve o sistema linear Ax = b utilizando a decomposição LU. Note que esta implementação utiliza a biblioteca NumPy para aproveitar as operações vetoriais e melhorar a eficiência do código."
   ]
  },
  {
   "cell_type": "code",
   "execution_count": null,
   "metadata": {},
   "outputs": [],
   "source": [
    "import numpy as np\n",
    "\n",
    "def LU_decomposition(A):\n",
    "    n = len(A)\n",
    "    L = np.eye(n)\n",
    "    U = A.copy()\n",
    "\n",
    "    for i in range(n):\n",
    "        for j in range(i+1, n):\n",
    "            L[j,i] = U[j,i] / U[i,i]\n",
    "            U[j,i:] -= L[j,i] * U[i,i:]\n",
    "\n",
    "    return L, U\n",
    "\n",
    "def solve_LU(L, U, b):\n",
    "    y = np.linalg.solve(L, b)\n",
    "    x = np.linalg.solve(U, y)\n",
    "    return x"
   ]
  },
  {
   "attachments": {},
   "cell_type": "markdown",
   "metadata": {},
   "source": [
    "Onde A é a matriz de coeficientes do sistema e b é o vetor de termos independentes. A função LU_decomposition retorna as matrizes L e U, enquanto a função solve_LU resolve o sistema linear Ax = b utilizando a decomposição LU. Note que esta implementação utiliza a biblioteca NumPy para aproveitar as operações vetoriais e melhorar a eficiência do código."
   ]
  },
  {
   "attachments": {},
   "cell_type": "markdown",
   "metadata": {},
   "source": [
    "## Gauss-Seidel\n",
    "\n",
    "O método Gauss-Seidel é uma técnica utilizada para resolver sistemas lineares. Ele é uma variação do método de eliminação de Gauss e consiste em iterativamente atualizar as estimativas das soluções do sistema.\n",
    "\n",
    "O processo começa com um conjunto inicial de estimativas para as soluções. Em cada iteração, a técnica atualiza as estimativas das soluções utilizando as equações que ainda não foram resolvidas. Essas equações são atualizadas com as estimativas mais recentes das soluções.\n",
    "\n",
    "Esse processo é repetido até que as estimativas das soluções convirjam para um valor preciso ou até que um número máximo de iterações seja alcançado.\n",
    "\n",
    "O método Gauss-Seidel é amplamente utilizado em engenharia e ciências, especialmente em casos onde o sistema linear é grande e não pode ser resolvido com métodos analíticos diretos."
   ]
  },
  {
   "attachments": {},
   "cell_type": "markdown",
   "metadata": {},
   "source": [
    "#### Aplicação\n",
    "\n",
    "Segue abaixo um exemplo de aplicação do método de Gauss-Seidel para encontrar as soluções de um sistema linear:\n"
   ]
  },
  {
   "attachments": {},
   "cell_type": "markdown",
   "metadata": {},
   "source": [
    "$$\\begin{cases}\n",
    "3x + y + z = 10 \\\\\n",
    "x + 4y - z = 0 \\\\\n",
    "2x + 3y + 5z = 5\n",
    "\\end{cases}$$"
   ]
  },
  {
   "attachments": {},
   "cell_type": "markdown",
   "metadata": {},
   "source": [
    "Começando com um conjunto inicial de estimativas para as soluções, por exemplo `x = 0`, `y = 0` e `z = 0`, podemos iterativamente atualizar as estimativas das soluções utilizando as equações que ainda não foram resolvidas.\n",
    "\n",
    "Na primeira iteração, temos:"
   ]
  },
  {
   "attachments": {},
   "cell_type": "markdown",
   "metadata": {},
   "source": [
    "\\begin{equation}\n",
    "x = \\frac{10 - y - z}{3}\n",
    "\\end{equation} \\\\ \\begin{equation} \n",
    "y = -\\frac{x}{4} + \\frac{z}{4} \n",
    "\\end{equation} \\\\ \\begin{equation}\n",
    "z = \\frac{5 - 2x - 3y}{5}\n",
    "\\end{equation}"
   ]
  },
  {
   "attachments": {},
   "cell_type": "markdown",
   "metadata": {},
   "source": [
    "Substituindo as estimativas iniciais $x = 0, y = 0, z = 0$, obtemos:\n",
    "\n",
    "$$\\begin{equation}\n",
    "x = \\frac{10}{3} \n",
    "\\end{equation} \\\\ \\begin{equation}\n",
    "y = 0\n",
    "\\end{equation} \\\\ \\begin{equation}\n",
    "z = 1\n",
    "\\end{equation}$$"
   ]
  },
  {
   "attachments": {},
   "cell_type": "markdown",
   "metadata": {},
   "source": [
    "Podemos utilizar essas estimativas atualizadas para calcular novas estimativas na próxima iteração, e assim por diante, até que as estimativas convirjam para um valor preciso ou até que um número máximo de iterações seja alcançado.\n",
    "\n",
    "Outro exemplo pode ser encontrado em: https://www.youtube.com/watch?v=JEqT8Xs7xPY"
   ]
  }
 ],
 "metadata": {
  "language_info": {
   "name": "python"
  },
  "orig_nbformat": 4
 },
 "nbformat": 4,
 "nbformat_minor": 2
}
