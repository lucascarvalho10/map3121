{
 "cells": [
  {
   "attachments": {},
   "cell_type": "markdown",
   "metadata": {},
   "source": [
    "Aqui, **`f`** é a função que queremos encontrar a raiz, **`df`** é a sua derivada, **`x0`** é o valor inicial para a busca da raiz, **`tol`** é a tolerância para o critério de parada (o padrão é **`1e-6`**) e **`max_iter`** é o número máximo de iterações (o padrão é **`100`**).\n",
    "\n",
    "Para usar o algoritmo, basta definir a função que queremos encontrar a raiz, a sua derivada e o valor inicial:"
   ]
  },
  {
   "cell_type": "code",
   "execution_count": null,
   "metadata": {},
   "outputs": [],
   "source": [
    "def newton(f, df, x0, tol=1e-6, max_iter=100):\n",
    "    \"\"\"Implementação do método de Newton para encontrar raízes de uma função.\n",
    "    \n",
    "    Args:\n",
    "        f (function): Função que queremos encontrar a raiz.\n",
    "        df (function): Derivada da função `f`.\n",
    "        x0 (float): Valor inicial para a busca da raiz.\n",
    "        tol (float, optional): Tolerância para o critério de parada. O padrão é 1e-6.\n",
    "        max_iter (int, optional): Número máximo de iterações. O padrão é 100.\n",
    "    \n",
    "    Returns:\n",
    "        float: Aproximação da raiz da função `f`.\n",
    "    \"\"\"\n",
    "    x = x0\n",
    "    for i in range(max_iter):\n",
    "        fx = f(x)\n",
    "        if abs(fx) < tol:\n",
    "            return x\n",
    "        dfx = df(x)\n",
    "        if dfx == 0:\n",
    "            break\n",
    "        x = x - fx / dfx\n",
    "    return x"
   ]
  }
 ],
 "metadata": {
  "language_info": {
   "name": "python"
  },
  "orig_nbformat": 4
 },
 "nbformat": 4,
 "nbformat_minor": 2
}
