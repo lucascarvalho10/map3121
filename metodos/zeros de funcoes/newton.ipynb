{
 "cells": [
  {
   "attachments": {},
   "cell_type": "markdown",
   "metadata": {},
   "source": [
    "O método de Newton também é um Método iterativo, que funciona numa lógica semelhante ao ponto fixo visto anteriormente em aula. De acordo com ele, temos o seguinte"
   ]
  }
 ],
 "metadata": {
  "language_info": {
   "name": "python"
  },
  "orig_nbformat": 4
 },
 "nbformat": 4,
 "nbformat_minor": 2
}
