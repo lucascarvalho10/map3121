{
 "cells": [
  {
   "attachments": {},
   "cell_type": "markdown",
   "metadata": {},
   "source": [
    "O código abaixo descreve o método da bissecção\n",
    "\n",
    "Ele se baseia em um processo iterativo"
   ]
  },
  {
   "cell_type": "code",
   "execution_count": 4,
   "metadata": {},
   "outputs": [
    {
     "name": "stdout",
     "output_type": "stream",
     "text": [
      "0.7389836215045062\n"
     ]
    }
   ],
   "source": [
    "#recebe a função f, o extremo esquerdo (a), o extremo direito (b) e um erro \n",
    "def bisseccao (f, a, b, err, lim):\n",
    "    fa = f(a)\n",
    "    i = 0\n",
    "    # O limitador é um aspecto computacional, para evitar loops eternos ou muito longos\n",
    "    while (i < lim):\n",
    "        p = (a + b)/2 #valor médio do intervalo\n",
    "        fp = f(p) # calculando f nesse valor médio\n",
    "        if (fp == 0 or abs((b - a)/2) < err):\n",
    "            # caso tenhamos encontrado a raiz ou o erro seja satisfatório, paramos o processo\n",
    "            return p\n",
    "        i += 1\n",
    "        if (fa*fp < 0):\n",
    "            # parte mais complexa, se f(p) compõe um par com f(a), b deve ser substituído\n",
    "            b = p\n",
    "        else:\n",
    "            # do contrário, a é substitúido, e seu respectivo f(a) por f(p)\n",
    "            fa = fp\n",
    "            a = p\n",
    "        if (i == lim):\n",
    "            print(\"Estourou o limite de tentativas\")\n",
    "    return p\n",
    "\n",
    "\n",
    "#Abaixo temos um exemplo prático visto em aula\n",
    "def polinomio (x):\n",
    "    return 2*(x**3) - x**2 + x - 1\n",
    "\n",
    "print(bisseccao(polinomio, 0, 1, 0.0, 100))"
   ]
  }
 ],
 "metadata": {
  "kernelspec": {
   "display_name": "Python 3",
   "language": "python",
   "name": "python3"
  },
  "language_info": {
   "codemirror_mode": {
    "name": "ipython",
    "version": 3
   },
   "file_extension": ".py",
   "mimetype": "text/x-python",
   "name": "python",
   "nbconvert_exporter": "python",
   "pygments_lexer": "ipython3",
   "version": "3.11.2"
  },
  "orig_nbformat": 4
 },
 "nbformat": 4,
 "nbformat_minor": 2
}
