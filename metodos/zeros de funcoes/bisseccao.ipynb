{
 "cells": [
  {
   "attachments": {},
   "cell_type": "markdown",
   "metadata": {},
   "source": [
    "# Zeros de Funções"
   ]
  },
  {
   "attachments": {},
   "cell_type": "markdown",
   "metadata": {},
   "source": [
    "## Método da Bissecção "
   ]
  },
  {
   "attachments": {},
   "cell_type": "markdown",
   "metadata": {},
   "source": [
    "- Definimos um intervalo que respeite as seguintes restrições:\n",
    "\n",
    "$$\n",
    "[a, b] \\ \\in \\ \\R\n",
    "\\ | \\ f(a)f(b) < 0\n",
    "$$\n",
    "\n",
    "- Definimos o valor médio do intervalo e calculamos a função neste ponto:\n",
    "\n",
    "$$\n",
    "f(p) \\ | \\ p = \\frac{a + b}{2}\n",
    "$$\n",
    "\n",
    "- Verificamos a nova condição de intervalo e a se achamos uma raiz ou não\n",
    "- Retornamos para o método até encontrarmos uma boa aproximação (ou atingirmos o limite de interações - aspecto computacional)"
   ]
  },
  {
   "cell_type": "code",
   "execution_count": 4,
   "metadata": {},
   "outputs": [
    {
     "name": "stdout",
     "output_type": "stream",
     "text": [
      "0.7389836215045062\n"
     ]
    }
   ],
   "source": [
    "#recebe a função f, o extremo esquerdo (a), o extremo direito (b) e um erro \n",
    "def bisseccao (f, a, b, err, lim):\n",
    "    fa = f(a)\n",
    "    i = 0\n",
    "    # O limitador é um aspecto computacional, para evitar loops eternos ou muito longos\n",
    "    while (i < lim):\n",
    "        p = (a + b)/2 #valor médio do intervalo\n",
    "        fp = f(p) # calculando f nesse valor médio\n",
    "        if (fp == 0 or abs((b - a)/2) < err):\n",
    "            # caso tenhamos encontrado a raiz ou o erro seja satisfatório, paramos o processo\n",
    "            return p\n",
    "        i += 1\n",
    "        if (fa*fp < 0):\n",
    "            # parte mais complexa, se f(p) compõe um par com f(a), b deve ser substituído\n",
    "            b = p\n",
    "        else:\n",
    "            # do contrário, a é substitúido, e seu respectivo f(a) por f(p)\n",
    "            fa = fp\n",
    "            a = p\n",
    "        if (i == lim):\n",
    "            print(\"Estourou o limite de tentativas\")\n",
    "    return p\n",
    "\n",
    "\n",
    "#Abaixo temos um exemplo prático visto em aula\n",
    "def polinomio (x):\n",
    "    return 2*(x**3) - x**2 + x - 1\n",
    "\n",
    "print(bisseccao(polinomio, 0, 1, 0.0, 100))"
   ]
  },
  {
   "attachments": {},
   "cell_type": "markdown",
   "metadata": {},
   "source": [
    "## Método de Newton"
   ]
  },
  {
   "attachments": {},
   "cell_type": "markdown",
   "metadata": {},
   "source": [
    "Aqui, **`f`** é a função que queremos encontrar a raiz, **`df`** é a sua derivada, **`x0`** é o valor inicial para a busca da raiz, **`tol`** é a tolerância para o critério de parada (o padrão é **`1e-6`**) e **`max_iter`** é o número máximo de iterações (o padrão é **`100`**).\n",
    "\n",
    "Para usar o algoritmo, basta definir a função que queremos encontrar a raiz, a sua derivada e o valor inicial:"
   ]
  },
  {
   "cell_type": "code",
   "execution_count": null,
   "metadata": {},
   "outputs": [],
   "source": [
    "def newton(f, df, x0, tol=1e-6, max_iter=100):\n",
    "    \"\"\"Implementação do método de Newton para encontrar raízes de uma função.\n",
    "    \n",
    "    Args:\n",
    "        f (function): Função que queremos encontrar a raiz.\n",
    "        df (function): Derivada da função `f`.\n",
    "        x0 (float): Valor inicial para a busca da raiz.\n",
    "        tol (float, optional): Tolerância para o critério de parada. O padrão é 1e-6.\n",
    "        max_iter (int, optional): Número máximo de iterações. O padrão é 100.\n",
    "    \n",
    "    Returns:\n",
    "        float: Aproximação da raiz da função `f`.\n",
    "    \"\"\"\n",
    "    x = x0\n",
    "    for i in range(max_iter):\n",
    "        fx = f(x)\n",
    "        if abs(fx) < tol:\n",
    "            return x\n",
    "        dfx = df(x)\n",
    "        if dfx == 0:\n",
    "            break\n",
    "        x = x - fx / dfx\n",
    "    return x"
   ]
  }
 ],
 "metadata": {
  "kernelspec": {
   "display_name": "Python 3",
   "language": "python",
   "name": "python3"
  },
  "language_info": {
   "codemirror_mode": {
    "name": "ipython",
    "version": 3
   },
   "file_extension": ".py",
   "mimetype": "text/x-python",
   "name": "python",
   "nbconvert_exporter": "python",
   "pygments_lexer": "ipython3",
   "version": "3.11.2"
  },
  "orig_nbformat": 4
 },
 "nbformat": 4,
 "nbformat_minor": 2
}
