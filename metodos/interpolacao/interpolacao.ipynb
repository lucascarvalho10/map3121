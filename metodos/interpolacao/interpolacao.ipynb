{
 "cells": [
  {
   "attachments": {},
   "cell_type": "markdown",
   "metadata": {},
   "source": [
    "# Interpolação Polinomial - Códigos e Apoximações"
   ]
  },
  {
   "attachments": {},
   "cell_type": "markdown",
   "metadata": {},
   "source": [
    "A interpolação polinomial é um método prático para obter o polinômio que melhor se aproxima de um determinado conjunto dado de pontos. A ideia é encontrar o polinômio que passe por todos esses pontos. Em contrapartida ao MMQ, que sinalizava uma curva de encaixe, a interpolação busca de fato satisfazer, para todos $x$ e $y$ dados, o seguinte:\n",
    "\n",
    "$$f(x) = y$$"
   ]
  },
  {
   "attachments": {},
   "cell_type": "markdown",
   "metadata": {},
   "source": [
    "### Modelagem do Problema\n",
    "\n",
    "Diante disso, temos que a interpolação busca a solução de um sistema linear da seguinte forma:"
   ]
  }
 ],
 "metadata": {
  "language_info": {
   "name": "python"
  },
  "orig_nbformat": 4
 },
 "nbformat": 4,
 "nbformat_minor": 2
}
