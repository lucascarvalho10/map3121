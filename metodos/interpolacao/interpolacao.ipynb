{
 "cells": [
  {
   "attachments": {},
   "cell_type": "markdown",
   "metadata": {},
   "source": [
    "# Interpolação Polinomial - Códigos e Apoximações"
   ]
  },
  {
   "attachments": {},
   "cell_type": "markdown",
   "metadata": {},
   "source": [
    "A interpolação polinomial é um método prático para obter o polinômio que melhor se aproxima de um determinado conjunto dado de pontos. A ideia é encontrar o polinômio que passe por todos esses pontos. Em contrapartida ao MMQ, que sinalizava uma curva de encaixe, a interpolação busca de fato satisfazer, para todos $x$ e $y$ dados, o seguinte:\n",
    "\n",
    "$$f(x) = y$$"
   ]
  },
  {
   "attachments": {},
   "cell_type": "markdown",
   "metadata": {},
   "source": [
    "### Modelagem do Problema\n",
    "\n",
    "Trata-se do processo de encontrar um determinado polinômio de ordem $n$ que passe exatamente por todos os $n + 1$ pontos de uma determinada tabela de valores. Pela definição formal, tem-se:"
   ]
  },
  {
   "attachments": {},
   "cell_type": "markdown",
   "metadata": {},
   "source": [
    "$$P(x_i)=a_0+a_1x_i+a_2x_i^2+...+a_nx_i^n \\\\\\\\ \\\\  0 \\le i \\le n$$"
   ]
  },
  {
   "attachments": {},
   "cell_type": "markdown",
   "metadata": {},
   "source": [
    "Assim, podemos definir um sistema linear para obtenção de todos os coeficientes $a_i$ do polinômio na base canônica:\n",
    "\n",
    "$$\\begin{pmatrix}\n",
    "    1 & x_0 & \\cdots & x_0^n \\\\\n",
    "    1 & x_1 & \\cdots & x_1^n \\\\\n",
    "    1 & x_2 & \\ddots & \\vdots \\\\\n",
    "    1 & x_n & \\cdots      & x_n^n\n",
    "\\end{pmatrix} \\begin{pmatrix}\n",
    "    a_0 \\\\\n",
    "    a_1 \\\\\n",
    "    \\vdots \\\\\n",
    "    a_n \n",
    "\\end{pmatrix} =\\begin{pmatrix}\n",
    "    y_0 \\\\\n",
    "    y_1 \\\\\n",
    "    \\vdots \\\\\n",
    "    y_n \n",
    "\\end{pmatrix}$$"
   ]
  },
  {
   "attachments": {},
   "cell_type": "markdown",
   "metadata": {},
   "source": [
    "### Unicidade e Erro\n",
    "\n",
    "Todo polinômio interpolador é único dado um determinado espaço vetorial com uma base definida. No caso anterior, é possível obter esse polinômio a partir da base canônica. \n",
    "\n",
    "Em relação ao erro, podemos obter da seguinte expressão:\n",
    "\n",
    "$$|f(x)-p_n(x)| \\le \\frac{M_{n+1}}{(n + 1)!}\\prod_{j=0}^n |x - x_j|\n",
    "$$"
   ]
  },
  {
   "cell_type": "code",
   "execution_count": 1,
   "metadata": {},
   "outputs": [
    {
     "name": "stdout",
     "output_type": "stream",
     "text": [
      "Para x = 2.5, o valor interpolado de y é 6.0.\n"
     ]
    }
   ],
   "source": [
    "def interpolar_linear(x, x0, y0, x1, y1):\n",
    "    \"\"\"\n",
    "    Realiza interpolação linear entre dois pontos (x0, y0) e (x1, y1) para um valor de x intermediário.\n",
    "    \"\"\"\n",
    "    # Calcula a inclinação (coeficiente angular) da reta\n",
    "    inclinacao = (y1 - y0) / (x1 - x0)\n",
    "    \n",
    "    # Calcula o valor de y correspondente a x usando a fórmula da interpolação linear\n",
    "    y = y0 + inclinacao * (x - x0)\n",
    "    \n",
    "    return y\n",
    "\n",
    "# Exemplo de uso:\n",
    "x0, y0 = 0, 2  # Primeiro ponto\n",
    "x1, y1 = 5, 10  # Segundo ponto\n",
    "x_intermediario = 2.5  # Valor de x intermediário\n",
    "\n",
    "# Realiza a interpolação linear\n",
    "y_interpolado = interpolar_linear(x_intermediario, x0, y0, x1, y1)\n",
    "\n",
    "print(f\"Para x = {x_intermediario}, o valor interpolado de y é {y_interpolado}.\")"
   ]
  }
 ],
 "metadata": {
  "kernelspec": {
   "display_name": "Python 3",
   "language": "python",
   "name": "python3"
  },
  "language_info": {
   "codemirror_mode": {
    "name": "ipython",
    "version": 3
   },
   "file_extension": ".py",
   "mimetype": "text/x-python",
   "name": "python",
   "nbconvert_exporter": "python",
   "pygments_lexer": "ipython3",
   "version": "3.11.2"
  },
  "orig_nbformat": 4
 },
 "nbformat": 4,
 "nbformat_minor": 2
}
